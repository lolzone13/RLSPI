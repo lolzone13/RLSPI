{
 "cells": [
  {
   "cell_type": "code",
   "execution_count": 2,
   "metadata": {},
   "outputs": [],
   "source": [
    "# Policy Iteration For Chain MDP"
   ]
  },
  {
   "cell_type": "code",
   "execution_count": null,
   "metadata": {},
   "outputs": [],
   "source": [
    "# num_states, states, num_actions, actions"
   ]
  },
  {
   "cell_type": "code",
   "execution_count": null,
   "metadata": {},
   "outputs": [],
   "source": [
    "import numpy as np"
   ]
  },
  {
   "cell_type": "code",
   "execution_count": 4,
   "metadata": {},
   "outputs": [],
   "source": [
    "class policy_iteration:\n",
    "    def __init__(self, env, num_iteration, theta=0.01):\n",
    "        self.env = env\n",
    "        self.iterations = num_iteration\n",
    "        self.value_function = np.zeros(env.num_states)\n",
    "        self.theta = theta # precision factor\n",
    "\n",
    "        # reward: 1d array of size num_states\n",
    "        # transition_probability[s_first][s_next][action] \n",
    "        #  \n",
    "\n",
    "\n",
    "\n",
    "\n",
    "    def policy_evaluation(self, current_policy):\n",
    "\n",
    "        delta = 0\n",
    "        optimal_policy = np.zeros(self.env.num_states)\n",
    "        new_value_function = np.zeros(self.env.num_states)\n",
    "        for i in range(0,self.env.num_states):\n",
    "            mat = np.zeros(self.env.num_actions)\n",
    "            for j in range(0,self.env.num_states):\n",
    "                for a in self.env.actions:\n",
    "                    p = env.transition_probability[i][j][a]\n",
    "                    v = self.value_function[i]\n",
    "                    mat[a] += p * (r[j] + v)\n",
    "\n",
    "            optimal_action = np.argmax(mat)\n",
    "            optimal_policy[i] = optimal_action\n",
    "            new_value_function[i] = mat[optimal_action]\n",
    "\n",
    "\n",
    "        self.value_function = new_value_function\n",
    "\n",
    "        return optimal_policy\n",
    "\n"
   ]
  },
  {
   "cell_type": "code",
   "execution_count": null,
   "metadata": {},
   "outputs": [],
   "source": [
    "def policy_evaluation(self):\n",
    "    "
   ]
  }
 ],
 "metadata": {
  "kernelspec": {
   "display_name": "venv",
   "language": "python",
   "name": "python3"
  },
  "language_info": {
   "codemirror_mode": {
    "name": "ipython",
    "version": 3
   },
   "file_extension": ".py",
   "mimetype": "text/x-python",
   "name": "python",
   "nbconvert_exporter": "python",
   "pygments_lexer": "ipython3",
   "version": "3.11.0"
  },
  "orig_nbformat": 4
 },
 "nbformat": 4,
 "nbformat_minor": 2
}
