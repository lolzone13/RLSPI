{
  "cells": [
    {
      "cell_type": "code",
      "execution_count": 1,
      "metadata": {
        "id": "k5GZPGXmEGqh"
      },
      "outputs": [],
      "source": [
        "import warnings\n",
        "warnings.filterwarnings(\"ignore\")\n",
        "import numpy as np\n",
        "import random\n",
        "import matplotlib.pyplot as plt\n",
        "%matplotlib inline"
      ]
    },
    {
      "cell_type": "code",
      "execution_count": 2,
      "metadata": {
        "colab": {
          "base_uri": "https://localhost:8080/"
        },
        "id": "djEEIIXZEGqj",
        "outputId": "f006936b-20e5-4cf7-ffce-ff62e84936b7"
      },
      "outputs": [
        {
          "output_type": "stream",
          "name": "stderr",
          "text": [
            "/usr/local/lib/python3.9/dist-packages/gym/core.py:317: DeprecationWarning: \u001b[33mWARN: Initializing wrapper in old step API which returns one bool instead of two. It is recommended to set `new_step_api=True` to use new step API. This will be the default behaviour in future.\u001b[0m\n",
            "  deprecation(\n",
            "/usr/local/lib/python3.9/dist-packages/gym/wrappers/step_api_compatibility.py:39: DeprecationWarning: \u001b[33mWARN: Initializing environment in old step API which returns one bool instead of two. It is recommended to set `new_step_api=True` to use new step API. This will be the default behaviour in future.\u001b[0m\n",
            "  deprecation(\n"
          ]
        }
      ],
      "source": [
        "import gym\n",
        "env = gym.make('CartPole-v0')"
      ]
    },
    {
      "cell_type": "code",
      "execution_count": 3,
      "metadata": {
        "colab": {
          "base_uri": "https://localhost:8080/"
        },
        "id": "nosoW9HVEGqk",
        "outputId": "3e11df83-8a3b-4cba-9b01-cc582f07193d"
      },
      "outputs": [
        {
          "output_type": "stream",
          "name": "stderr",
          "text": [
            "/usr/local/lib/python3.9/dist-packages/ipykernel/ipkernel.py:283: DeprecationWarning: `should_run_async` will not call `transform_cell` automatically in the future. Please pass the result to `transformed_cell` argument and any exception that happen during thetransform in `preprocessing_exc_tuple` in IPython 7.17 and above.\n",
            "  and should_run_async(code)\n"
          ]
        }
      ],
      "source": [
        "upperBounds = env.observation_space.high\n",
        "lowerBounds = env.observation_space.low\n",
        "cartVelocityMin = -3\n",
        "cartVelocityMax = 3\n",
        "poleAngleVelocityMin = -10\n",
        "poleAngleVelocityMax = 10\n",
        "upperBounds[1] = cartVelocityMax\n",
        "upperBounds[3] = poleAngleVelocityMax\n",
        "lowerBounds[1] = cartVelocityMin\n",
        "lowerBounds[3] = poleAngleVelocityMin"
      ]
    },
    {
      "cell_type": "code",
      "execution_count": 5,
      "metadata": {
        "id": "szDVnsyxEGql",
        "colab": {
          "base_uri": "https://localhost:8080/"
        },
        "outputId": "5d34e530-d685-4015-ce3d-5f0055bb4f32"
      },
      "outputs": [
        {
          "output_type": "stream",
          "name": "stderr",
          "text": [
            "/usr/local/lib/python3.9/dist-packages/ipykernel/ipkernel.py:283: DeprecationWarning: `should_run_async` will not call `transform_cell` automatically in the future. Please pass the result to `transformed_cell` argument and any exception that happen during thetransform in `preprocessing_exc_tuple` in IPython 7.17 and above.\n",
            "  and should_run_async(code)\n"
          ]
        },
        {
          "output_type": "stream",
          "name": "stdout",
          "text": [
            "Looking in indexes: https://pypi.org/simple, https://us-python.pkg.dev/colab-wheels/public/simple/\n",
            "Collecting mushroom_rl\n",
            "  Downloading mushroom-rl-1.9.1.tar.gz (1.6 MB)\n",
            "\u001b[2K     \u001b[90m━━━━━━━━━━━━━━━━━━━━━━━━━━━━━━━━━━━━━━━━\u001b[0m \u001b[32m1.6/1.6 MB\u001b[0m \u001b[31m23.8 MB/s\u001b[0m eta \u001b[36m0:00:00\u001b[0m\n",
            "\u001b[?25h  Installing build dependencies ... \u001b[?25l\u001b[?25hdone\n",
            "  Getting requirements to build wheel ... \u001b[?25l\u001b[?25hdone\n",
            "  Preparing metadata (pyproject.toml) ... \u001b[?25l\u001b[?25hdone\n",
            "Requirement already satisfied: opencv-python in /usr/local/lib/python3.9/dist-packages (from mushroom_rl) (4.7.0.72)\n",
            "Requirement already satisfied: pytest in /usr/local/lib/python3.9/dist-packages (from mushroom_rl) (7.2.2)\n",
            "Requirement already satisfied: tqdm in /usr/local/lib/python3.9/dist-packages (from mushroom_rl) (4.65.0)\n",
            "Collecting numpy-ml\n",
            "  Downloading numpy_ml-0.1.2-py2.py3-none-any.whl (239 kB)\n",
            "\u001b[2K     \u001b[90m━━━━━━━━━━━━━━━━━━━━━━━━━━━━━━━━━━━━━━\u001b[0m \u001b[32m239.9/239.9 kB\u001b[0m \u001b[31m19.0 MB/s\u001b[0m eta \u001b[36m0:00:00\u001b[0m\n",
            "\u001b[?25hRequirement already satisfied: scipy in /usr/local/lib/python3.9/dist-packages (from mushroom_rl) (1.10.1)\n",
            "Requirement already satisfied: matplotlib in /usr/local/lib/python3.9/dist-packages (from mushroom_rl) (3.7.1)\n",
            "Requirement already satisfied: pygame in /usr/local/lib/python3.9/dist-packages (from mushroom_rl) (2.3.0)\n",
            "Requirement already satisfied: numpy in /usr/local/lib/python3.9/dist-packages (from mushroom_rl) (1.22.4)\n",
            "Requirement already satisfied: torch in /usr/local/lib/python3.9/dist-packages (from mushroom_rl) (2.0.0+cu118)\n",
            "Requirement already satisfied: joblib in /usr/local/lib/python3.9/dist-packages (from mushroom_rl) (1.2.0)\n",
            "Requirement already satisfied: scikit-learn in /usr/local/lib/python3.9/dist-packages (from mushroom_rl) (1.2.2)\n",
            "Requirement already satisfied: importlib-resources>=3.2.0 in /usr/local/lib/python3.9/dist-packages (from matplotlib->mushroom_rl) (5.12.0)\n",
            "Requirement already satisfied: kiwisolver>=1.0.1 in /usr/local/lib/python3.9/dist-packages (from matplotlib->mushroom_rl) (1.4.4)\n",
            "Requirement already satisfied: packaging>=20.0 in /usr/local/lib/python3.9/dist-packages (from matplotlib->mushroom_rl) (23.1)\n",
            "Requirement already satisfied: pyparsing>=2.3.1 in /usr/local/lib/python3.9/dist-packages (from matplotlib->mushroom_rl) (3.0.9)\n",
            "Requirement already satisfied: contourpy>=1.0.1 in /usr/local/lib/python3.9/dist-packages (from matplotlib->mushroom_rl) (1.0.7)\n",
            "Requirement already satisfied: pillow>=6.2.0 in /usr/local/lib/python3.9/dist-packages (from matplotlib->mushroom_rl) (8.4.0)\n",
            "Requirement already satisfied: python-dateutil>=2.7 in /usr/local/lib/python3.9/dist-packages (from matplotlib->mushroom_rl) (2.8.2)\n",
            "Requirement already satisfied: cycler>=0.10 in /usr/local/lib/python3.9/dist-packages (from matplotlib->mushroom_rl) (0.11.0)\n",
            "Requirement already satisfied: fonttools>=4.22.0 in /usr/local/lib/python3.9/dist-packages (from matplotlib->mushroom_rl) (4.39.3)\n",
            "Requirement already satisfied: attrs>=19.2.0 in /usr/local/lib/python3.9/dist-packages (from pytest->mushroom_rl) (23.1.0)\n",
            "Requirement already satisfied: pluggy<2.0,>=0.12 in /usr/local/lib/python3.9/dist-packages (from pytest->mushroom_rl) (1.0.0)\n",
            "Requirement already satisfied: iniconfig in /usr/local/lib/python3.9/dist-packages (from pytest->mushroom_rl) (2.0.0)\n",
            "Requirement already satisfied: tomli>=1.0.0 in /usr/local/lib/python3.9/dist-packages (from pytest->mushroom_rl) (2.0.1)\n",
            "Requirement already satisfied: exceptiongroup>=1.0.0rc8 in /usr/local/lib/python3.9/dist-packages (from pytest->mushroom_rl) (1.1.1)\n",
            "Requirement already satisfied: threadpoolctl>=2.0.0 in /usr/local/lib/python3.9/dist-packages (from scikit-learn->mushroom_rl) (3.1.0)\n",
            "Requirement already satisfied: jinja2 in /usr/local/lib/python3.9/dist-packages (from torch->mushroom_rl) (3.1.2)\n",
            "Requirement already satisfied: typing-extensions in /usr/local/lib/python3.9/dist-packages (from torch->mushroom_rl) (4.5.0)\n",
            "Requirement already satisfied: filelock in /usr/local/lib/python3.9/dist-packages (from torch->mushroom_rl) (3.11.0)\n",
            "Requirement already satisfied: triton==2.0.0 in /usr/local/lib/python3.9/dist-packages (from torch->mushroom_rl) (2.0.0)\n",
            "Requirement already satisfied: sympy in /usr/local/lib/python3.9/dist-packages (from torch->mushroom_rl) (1.11.1)\n",
            "Requirement already satisfied: networkx in /usr/local/lib/python3.9/dist-packages (from torch->mushroom_rl) (3.1)\n",
            "Requirement already satisfied: lit in /usr/local/lib/python3.9/dist-packages (from triton==2.0.0->torch->mushroom_rl) (16.0.1)\n",
            "Requirement already satisfied: cmake in /usr/local/lib/python3.9/dist-packages (from triton==2.0.0->torch->mushroom_rl) (3.25.2)\n",
            "Requirement already satisfied: zipp>=3.1.0 in /usr/local/lib/python3.9/dist-packages (from importlib-resources>=3.2.0->matplotlib->mushroom_rl) (3.15.0)\n",
            "Requirement already satisfied: six>=1.5 in /usr/local/lib/python3.9/dist-packages (from python-dateutil>=2.7->matplotlib->mushroom_rl) (1.16.0)\n",
            "Requirement already satisfied: MarkupSafe>=2.0 in /usr/local/lib/python3.9/dist-packages (from jinja2->torch->mushroom_rl) (2.1.2)\n",
            "Requirement already satisfied: mpmath>=0.19 in /usr/local/lib/python3.9/dist-packages (from sympy->torch->mushroom_rl) (1.3.0)\n",
            "Building wheels for collected packages: mushroom_rl\n",
            "  Building wheel for mushroom_rl (pyproject.toml) ... \u001b[?25l\u001b[?25hdone\n",
            "  Created wheel for mushroom_rl: filename=mushroom_rl-1.9.1-py3-none-any.whl size=1722302 sha256=1ee2372a91580c63cafba9c26e049ef00f79147177542943701fa744a9ff2a16\n",
            "  Stored in directory: /root/.cache/pip/wheels/73/49/df/15bbda01518725052a17b12976dcfdd9dd3463a79a68274ccc\n",
            "Successfully built mushroom_rl\n",
            "Installing collected packages: numpy-ml, mushroom_rl\n",
            "Successfully installed mushroom_rl-1.9.1 numpy-ml-0.1.2\n"
          ]
        }
      ],
      "source": [
        "!pip install mushroom_rl\n",
        "from mushroom_rl.features.basis import PolynomialBasis, GaussianRBF\n",
        "from mushroom_rl.features import Features"
      ]
    },
    {
      "cell_type": "code",
      "execution_count": 26,
      "metadata": {
        "id": "RzKQTL-aEGql"
      },
      "outputs": [],
      "source": [
        "class CartPole_RLSPI():\n",
        "\n",
        "    def __init__(self, config, gravity=9.8, length=0.5, force_mag=10) -> None:\n",
        "        self.env = gym.make('CartPole-v0')\n",
        "        self.env.reset()\n",
        "        self.env.gravity = gravity\n",
        "        self.length = length\n",
        "        self.force_mag = force_mag\n",
        "        self.n_actions = env.action_space.n \n",
        "        self.n_episodes = config[\"n_episodes\"]\n",
        "        self.n_bins = config[\"n_bins\"]\n",
        "        self.lowerBounds = config[\"lowerBounds\"]\n",
        "        self.upperBounds = config[\"upperBounds\"]\n",
        "\n",
        "        self.n_states = self.n_bins[0]*self.n_bins[1]*self.n_bins[2]*self.n_bins[3]\n",
        "\n",
        "        self.n_actions = self.env.action_space.n\n",
        "\n",
        "        self.policy = np.random.randint(0, 2, (self.n_bins[0],self.n_bins[1],self.n_bins[2],self.n_bins[3], 1))\n",
        "\n",
        "        self.n_features = config['n_features']\n",
        "        self.epsilon = config['epsilon']\n",
        "\n",
        "        self.alpha = config['alpha']\n",
        "\n",
        "        self.features = self.get_basis()\n",
        "\n",
        "        self.actions = np.arange(self.n_actions)\n",
        "\n",
        "        self.phi_sa = self.get_phi_sa(self.actions)\n",
        "\n",
        "\n",
        "    def get_basis(self):\n",
        "        basis = []\n",
        "        s1 = np.array([-2,-1,0,1, 2])\n",
        "        s2 = np.array([-1.5,0, 1.5])\n",
        "        s3 = np.array([-0.2,0, 0.2])\n",
        "        s4 = np.array([-5,0, 5])\n",
        "        s5 = np.array([0, 1])\n",
        "        for i in s1:\n",
        "            for j in s2:\n",
        "                for k in s3:\n",
        "                    for l in s4:\n",
        "                        for m in s5:\n",
        "                            basis.append(GaussianRBF(np.array([i,j,k,l, m]), np.array([2])))\n",
        "        features = Features(basis_list=basis)\n",
        "\n",
        "        return features\n",
        "    \n",
        "\n",
        "    def get_phi_sa(self, actions):\n",
        "        \n",
        "        phi_sa = np.zeros((self.n_bins[0],self.n_bins[1],self.n_bins[2],self.n_bins[3], self.n_features, len(actions)))\n",
        "\n",
        "        for i in range(self.n_bins[0]):\n",
        "            a = np.linspace(self.lowerBounds[0],self.upperBounds[0],self.n_bins[0])[i]\n",
        "            for j in range(self.n_bins[1]):\n",
        "                b = np.linspace(self.lowerBounds[1],self.upperBounds[1],self.n_bins[1])[j]\n",
        "                for k in range(self.n_bins[2]):\n",
        "                    c = np.linspace(self.lowerBounds[2],self.upperBounds[2],self.n_bins[2])[k]\n",
        "                    for l in range(self.n_bins[3]):\n",
        "                        d = np.linspace(self.lowerBounds[3],self.upperBounds[3],self.n_bins[3])[l]\n",
        "                        for action in actions:\n",
        "                            phi_sa[i,j,k,l,:,action] = phi_sa[i,j,k,l,:,action]/np.linalg.norm(phi_sa[i,j,k,l,:,action])\n",
        "                            phi_sa[i,j,k,l,:,action] = self.features(np.array([a,b,c,d,action]))\n",
        "                            phi_sa[i,j,k,l,:,action] = phi_sa[i,j,k,l,:,action]/np.linalg.norm(phi_sa[i,j,k,l,:,action])\n",
        "\n",
        "        # print(phi_sa.shape)\n",
        "\n",
        "        return phi_sa\n",
        "    \n",
        "\n",
        "\n",
        "    def returnIndexState(self,state):\n",
        "        position = state[0]\n",
        "        velocity = state[1]\n",
        "        angle    = state[2]\n",
        "        angularVelocity = state[3]\n",
        "            \n",
        "        cartPositionBin = np.linspace(self.lowerBounds[0],self.upperBounds[0],self.n_bins[0])\n",
        "        cartVelocityBin = np.linspace(self.lowerBounds[1],self.upperBounds[1],self.n_bins[1])\n",
        "        poleAngleBin = np.linspace(self.lowerBounds[2],self.upperBounds[2],self.n_bins[2])\n",
        "        poleAngleVelocityBin = np.linspace(self.lowerBounds[3],self.upperBounds[3],self.n_bins[3])\n",
        "            \n",
        "        indexPosition = np.maximum(np.digitize(position,cartPositionBin)-1,0)\n",
        "        indexVelocity = np.maximum(np.digitize(velocity,cartVelocityBin)-1,0)\n",
        "        indexAngle = np.maximum(np.digitize(angle,poleAngleBin)-1,0)\n",
        "        indexAngularVelocity = np.maximum(np.digitize(angularVelocity,poleAngleVelocityBin)-1,0)\n",
        "            \n",
        "        return tuple([indexPosition,indexVelocity,indexAngle,indexAngularVelocity]) \n",
        "\n",
        "    def generate_step_sizes(self, n):\n",
        "        \"\"\"\n",
        "        Generates a deterministic sequence of step sizes that satisfy the standard Robbins-Munro stochastic conditions \n",
        "        for stochastic approximation.\n",
        "        \n",
        "        Args:\n",
        "            n (int): The number of step sizes to generate.\n",
        "        \n",
        "        Returns:\n",
        "            A numpy array of shape (n,) containing the step sizes.\n",
        "        \"\"\"\n",
        "        \n",
        "        n = 100000\n",
        "        # Generate the sequence of step sizes according to the Robbins-Munro stochastic conditions\n",
        "        step_sizes = np.zeros(n)\n",
        "        for i in range(n):\n",
        "            step_sizes[i] = 1 / ((i+1) * np.sqrt(i+1))\n",
        "        \n",
        "        return list(step_sizes)\n",
        "  \n",
        "\n",
        "    def simulateEpisodes(self):\n",
        "        # here we loop through the episodes\n",
        "\n",
        "        sum_rewards = []\n",
        "        avg_rewards = []\n",
        "        for indexEpisode in range(self.n_episodes):\n",
        "                \n",
        "            # list that stores rewards per episode - this is necessary for keeping track of convergence \n",
        "            rewardsEpisode=[]\n",
        "\n",
        "            history = []\n",
        "\n",
        "            w = np.random.random((self.n_features, 1))\n",
        "                \n",
        "            # reset the environment at the beginning of every episode\n",
        "            stateS = self.env.reset()\n",
        "            stateS = list(stateS)\n",
        "\n",
        "            s_0 = self.returnIndexState(stateS)\n",
        "\n",
        "            a_0 = self.policy[s_0][0]\n",
        "\n",
        "            (stateSprime, reward, terminalState,_) = self.env.step(a_0)          \n",
        "                \n",
        "            stateSprime=list(stateSprime)\n",
        "                \n",
        "            s_1 = self.returnIndexState(stateSprime)\n",
        "            a_1 = self.policy[s_1][0]\n",
        "\n",
        "\n",
        "            z_0 = self.phi_sa[s_0[0], s_0[1], s_0[2], s_0[3], :, a_0].reshape(-1, 1)\n",
        "            A_0 = z_0@(self.alpha*self.phi_sa[s_1[0], s_1[1], s_1[2], s_1[3],:,a_1].reshape(-1, 1).T - self.phi_sa[s_0[0], s_0[1], s_0[2], s_0[3],:,a_0].reshape(-1, 1).T)\n",
        "            B_0 = (self.phi_sa[s_0[0], s_0[1], s_0[2], s_0[3], :, a_0].reshape(-1, 1))@(self.phi_sa[s_0[0], s_0[1], s_0[2], s_0[3], :, a_0].reshape(-1, 1).T)\n",
        "\n",
        "            history.append((0, s_0, a_0, 0,\n",
        "                            s_1, z_0, A_0,\n",
        "                            B_0))\n",
        "            \n",
        "\n",
        "            print(\"Simulating episode {}\".format(indexEpisode))\n",
        "                \n",
        "            # here we step from one state to another\n",
        "            # this will loop until a terminal state is reached\n",
        "            terminalState=False\n",
        "\n",
        "            gammas = self.generate_step_sizes(self)\n",
        "            t = 0\n",
        "            \n",
        "            while not terminalState:\n",
        "                # return a discretized index of the state\n",
        "                    \n",
        "                stateSIndex = self.returnIndexState(stateS)\n",
        "                    \n",
        "                # select an action on the basis of the current state, denoted by stateS\n",
        "                actionA = self.policy[stateSIndex]\n",
        "\n",
        "                if terminalState:\n",
        "                    stateSprime, reward, terminalState,_ = stateS, 0, True, None\n",
        "                else:\n",
        "                    (stateSprime, reward, terminalState,_) = self.env.step(actionA[0])          \n",
        "                    \n",
        "                rewardsEpisode.append(reward)\n",
        "                    \n",
        "                stateSprime=list(stateSprime)\n",
        "                    \n",
        "                stateSprimeIndex = self.returnIndexState(stateSprime)\n",
        "                \n",
        "                # print(\"Using Gamma: \", {gammas[t]}, \" t: \", t)                \n",
        "                history, w_new = self.rlspe(self.phi_sa, history, self.policy, w, stateSIndex, stateSprimeIndex, actionA, reward, gamma = gammas[t])\n",
        "                                       \n",
        "                stateS = stateSprime\n",
        "\n",
        "                diff = np.linalg.norm(w_new - w)\n",
        "\n",
        "                if diff < self.epsilon:\n",
        "                    break\n",
        "\n",
        "                w = w_new\n",
        "\n",
        "                t+=1\n",
        "            \n",
        "            # update policy\n",
        "            self.updatePolicy(w, self.phi_sa[:,:,:,:,:,:].reshape(-1, self.n_features, self.n_actions), self.actions)\n",
        "    \n",
        "            print(\"Sum of rewards {}\".format(np.sum(rewardsEpisode))) \n",
        "            \n",
        "            if (len(avg_rewards) == 0):\n",
        "              avg_rewards.append(np.sum(rewardsEpisode))\n",
        "            else:\n",
        "              new_avg = (avg_rewards[-1] * len(avg_rewards) + np.sum(rewardsEpisode) ) / (len(avg_rewards) + 1)\n",
        "              avg_rewards.append(new_avg)\n",
        "            \n",
        "            sum_rewards.append(np.sum(rewardsEpisode))   \n",
        "\n",
        "            print(\"Cumulative Average Reward: {}\".format(avg_rewards[-1]))\n",
        "\n",
        "        plt.plot(avg_rewards)\n",
        "        plt.xlabel(\"Episodes\")\n",
        "        plt.ylabel(\"Cumulative Average Reward\")\n",
        "        plt.show()\n",
        "\n",
        "    def updatePolicy(self, w, phi_sa, actions):\n",
        "        temp = np.einsum(\"sla,lj -> sja\", phi_sa, w)\n",
        "        temp = np.squeeze(temp, axis=1)\n",
        "        temp_1 = np.argmax(temp, axis=1)\n",
        "        self.policy = temp_1.reshape(self.n_bins[0], self.n_bins[1], self.n_bins[2], self.n_bins[3], 1)\n",
        "        \n",
        "\n",
        "    def sigma(self, u_s_a, v):\n",
        "        temp = np.dot(u_s_a, v)\n",
        "        return np.min(temp)\n",
        "\n",
        "\n",
        "    def generate_uncertainty_set(self, n_states):\n",
        "        x = 100\n",
        "        U = np.zeros((x, n_states))\n",
        "        for i in range(x):      \n",
        "            random_numbers = [random.random() * 2 - 1 for i in range(n_states)]  # generate n random numbers between -1 and 1\n",
        "            mean = sum(random_numbers) / n_states  # calculate the mean of the n numbers\n",
        "            random_numbers = [(x - mean)/2 +1 for x in random_numbers]  # subtract the mean from each of the numbers\n",
        "            U[i] = np.array(random_numbers)\n",
        "        \n",
        "        return U\n",
        "\n",
        "\n",
        "    def rlspe(self, phi, history, curr_policy, w, s_t, s_t_plus_1, a_t, reward, alpha=0.1, lamda=0.9, gamma=0.01):\n",
        "        # history - (t, s, a, r, s', z, A, B) tuples\n",
        "        # curr_policy - ()\n",
        "        # w - (L x 1)\n",
        "        # phi - (S x L x |A|)\n",
        "\n",
        "        t = history[-1][0] + 1\n",
        "        z_t_minus_1 = history[-1][5]\n",
        "        A_t_minus_1 = history[-1][6]\n",
        "        B_t_minus_1 = history[-1][7]\n",
        "        s_t_minus_1 = history[-1][1]\n",
        "        a_t_plus_1 = curr_policy[s_t_plus_1][0]\n",
        "\n",
        "        phi_s_t = phi[s_t[0], s_t[1], s_t[2], s_t[3], :, a_t[0]].reshape(-1, 1)\n",
        "\n",
        "        phi_s_t_plus_1 = phi[s_t_plus_1[0], s_t_plus_1[1], s_t_plus_1[2], s_t_plus_1[3], :, a_t_plus_1].reshape(-1, 1)\n",
        "\n",
        "\n",
        "\n",
        "        z_t = z_t_minus_1*(alpha*lamda) + phi_s_t\n",
        "\n",
        "\n",
        "        A_t = (t/(t+1))*A_t_minus_1 + (1/(t+1))*z_t@(alpha*phi_s_t_plus_1.T - phi_s_t.T)\n",
        "\n",
        "\n",
        "        B_t = (t/(t+1))*B_t_minus_1 + phi_s_t@phi_s_t.T\n",
        "\n",
        "\n",
        "        C_t = 0\n",
        "        b_t = 0\n",
        "\n",
        "        U_s_a = self.generate_uncertainty_set(self.n_states)\n",
        "\n",
        "        for (tau, s, a, r, s_prime, z, A, B) in history:\n",
        "\n",
        "            C_t += z*self.sigma(U_s_a, phi[:,:,:,:,:,a_t].reshape(-1, self.n_features)@w)\n",
        "\n",
        "            b_t += z*r\n",
        "        \n",
        "        C_t *= alpha/(t+1)\n",
        "        b_t *= 1/(t+1)\n",
        "            \n",
        "        w_t_plus_1 = w + gamma*np.linalg.pinv(B_t)@(A_t@w + b_t + C_t)\n",
        "\n",
        "\n",
        "        history.append((t, s_t, a_t, reward, s_t_plus_1, z_t, A_t, B_t))\n",
        "\n",
        "        return history, w_t_plus_1\n",
        "        \n",
        "        "
      ]
    },
    {
      "cell_type": "code",
      "execution_count": 27,
      "metadata": {
        "id": "Q5A2Jx72EGqo"
      },
      "outputs": [],
      "source": [
        "config = {\n",
        "    \"n_episodes\": 50,\n",
        "    \"n_bins\": (5, 5, 5, 5),\n",
        "    \"lowerBounds\": lowerBounds,\n",
        "    \"upperBounds\": upperBounds,\n",
        "    \"n_features\": 270,\n",
        "    \"epsilon\": 0.1,\n",
        "    'alpha': 0.1,\n",
        "}\n"
      ]
    },
    {
      "cell_type": "code",
      "execution_count": 28,
      "metadata": {
        "id": "iNgKWTukEGqp"
      },
      "outputs": [],
      "source": [
        "x = CartPole_RLSPI(config, gravity=9.8)"
      ]
    },
    {
      "cell_type": "code",
      "execution_count": 29,
      "metadata": {
        "colab": {
          "base_uri": "https://localhost:8080/",
          "height": 1000
        },
        "id": "X9Ks97xbEGqp",
        "outputId": "f19b9855-1604-4fb7-d63d-76b30b041ec8"
      },
      "outputs": [
        {
          "output_type": "stream",
          "name": "stdout",
          "text": [
            "Simulating episode 0\n",
            "Sum of rewards 7.0\n",
            "Cumulative Average Reward: 7.0\n",
            "Simulating episode 1\n",
            "Sum of rewards 9.0\n",
            "Cumulative Average Reward: 8.0\n",
            "Simulating episode 2\n",
            "Sum of rewards 8.0\n",
            "Cumulative Average Reward: 8.0\n",
            "Simulating episode 3\n",
            "Sum of rewards 7.0\n",
            "Cumulative Average Reward: 7.75\n",
            "Simulating episode 4\n",
            "Sum of rewards 8.0\n",
            "Cumulative Average Reward: 7.8\n",
            "Simulating episode 5\n",
            "Sum of rewards 9.0\n",
            "Cumulative Average Reward: 8.0\n",
            "Simulating episode 6\n",
            "Sum of rewards 9.0\n",
            "Cumulative Average Reward: 8.142857142857142\n",
            "Simulating episode 7\n",
            "Sum of rewards 7.0\n",
            "Cumulative Average Reward: 8.0\n",
            "Simulating episode 8\n",
            "Sum of rewards 7.0\n",
            "Cumulative Average Reward: 7.888888888888889\n",
            "Simulating episode 9\n",
            "Sum of rewards 9.0\n",
            "Cumulative Average Reward: 8.0\n",
            "Simulating episode 10\n",
            "Sum of rewards 8.0\n",
            "Cumulative Average Reward: 8.0\n",
            "Simulating episode 11\n",
            "Sum of rewards 8.0\n",
            "Cumulative Average Reward: 8.0\n",
            "Simulating episode 12\n",
            "Sum of rewards 9.0\n",
            "Cumulative Average Reward: 8.076923076923077\n",
            "Simulating episode 13\n",
            "Sum of rewards 8.0\n",
            "Cumulative Average Reward: 8.071428571428571\n",
            "Simulating episode 14\n",
            "Sum of rewards 9.0\n",
            "Cumulative Average Reward: 8.133333333333333\n",
            "Simulating episode 15\n",
            "Sum of rewards 9.0\n",
            "Cumulative Average Reward: 8.1875\n",
            "Simulating episode 16\n",
            "Sum of rewards 9.0\n",
            "Cumulative Average Reward: 8.235294117647058\n",
            "Simulating episode 17\n",
            "Sum of rewards 8.0\n",
            "Cumulative Average Reward: 8.222222222222221\n",
            "Simulating episode 18\n",
            "Sum of rewards 8.0\n",
            "Cumulative Average Reward: 8.210526315789474\n",
            "Simulating episode 19\n",
            "Sum of rewards 9.0\n",
            "Cumulative Average Reward: 8.25\n",
            "Simulating episode 20\n",
            "Sum of rewards 199.0\n",
            "Cumulative Average Reward: 17.333333333333332\n",
            "Simulating episode 21\n",
            "Sum of rewards 112.0\n",
            "Cumulative Average Reward: 21.636363636363637\n",
            "Simulating episode 22\n",
            "Sum of rewards 158.0\n",
            "Cumulative Average Reward: 27.565217391304348\n",
            "Simulating episode 23\n",
            "Sum of rewards 134.0\n",
            "Cumulative Average Reward: 32.0\n",
            "Simulating episode 24\n",
            "Sum of rewards 199.0\n",
            "Cumulative Average Reward: 38.68\n",
            "Simulating episode 25\n",
            "Sum of rewards 199.0\n",
            "Cumulative Average Reward: 44.84615384615385\n",
            "Simulating episode 26\n",
            "Sum of rewards 199.0\n",
            "Cumulative Average Reward: 50.55555555555556\n",
            "Simulating episode 27\n",
            "Sum of rewards 150.0\n",
            "Cumulative Average Reward: 54.107142857142854\n",
            "Simulating episode 28\n",
            "Sum of rewards 148.0\n",
            "Cumulative Average Reward: 57.3448275862069\n",
            "Simulating episode 29\n",
            "Sum of rewards 137.0\n",
            "Cumulative Average Reward: 60.0\n",
            "Simulating episode 30\n",
            "Sum of rewards 157.0\n",
            "Cumulative Average Reward: 63.12903225806452\n",
            "Simulating episode 31\n",
            "Sum of rewards 146.0\n",
            "Cumulative Average Reward: 65.71875\n",
            "Simulating episode 32\n",
            "Sum of rewards 199.0\n",
            "Cumulative Average Reward: 69.75757575757575\n",
            "Simulating episode 33\n",
            "Sum of rewards 161.0\n",
            "Cumulative Average Reward: 72.44117647058823\n",
            "Simulating episode 34\n",
            "Sum of rewards 122.0\n",
            "Cumulative Average Reward: 73.85714285714286\n",
            "Simulating episode 35\n",
            "Sum of rewards 199.0\n",
            "Cumulative Average Reward: 77.33333333333333\n",
            "Simulating episode 36\n",
            "Sum of rewards 156.0\n",
            "Cumulative Average Reward: 79.45945945945945\n",
            "Simulating episode 37\n",
            "Sum of rewards 199.0\n",
            "Cumulative Average Reward: 82.60526315789473\n",
            "Simulating episode 38\n",
            "Sum of rewards 166.0\n",
            "Cumulative Average Reward: 84.74358974358974\n",
            "Simulating episode 39\n",
            "Sum of rewards 109.0\n",
            "Cumulative Average Reward: 85.35\n",
            "Simulating episode 40\n",
            "Sum of rewards 178.0\n",
            "Cumulative Average Reward: 87.60975609756098\n",
            "Simulating episode 41\n",
            "Sum of rewards 145.0\n",
            "Cumulative Average Reward: 88.97619047619048\n",
            "Simulating episode 42\n",
            "Sum of rewards 199.0\n",
            "Cumulative Average Reward: 91.53488372093024\n",
            "Simulating episode 43\n",
            "Sum of rewards 57.0\n",
            "Cumulative Average Reward: 90.75000000000001\n",
            "Simulating episode 44\n",
            "Sum of rewards 199.0\n",
            "Cumulative Average Reward: 93.15555555555555\n",
            "Simulating episode 45\n",
            "Sum of rewards 199.0\n",
            "Cumulative Average Reward: 95.45652173913044\n",
            "Simulating episode 46\n",
            "Sum of rewards 161.0\n",
            "Cumulative Average Reward: 96.85106382978724\n",
            "Simulating episode 47\n",
            "Sum of rewards 184.0\n",
            "Cumulative Average Reward: 98.66666666666667\n",
            "Simulating episode 48\n",
            "Sum of rewards 199.0\n",
            "Cumulative Average Reward: 100.71428571428571\n",
            "Simulating episode 49\n",
            "Sum of rewards 127.0\n",
            "Cumulative Average Reward: 101.24\n",
            "Simulating episode 50\n",
            "Sum of rewards 199.0\n",
            "Cumulative Average Reward: 103.15686274509804\n",
            "Simulating episode 51\n",
            "Sum of rewards 193.0\n",
            "Cumulative Average Reward: 104.88461538461539\n",
            "Simulating episode 52\n",
            "Sum of rewards 199.0\n",
            "Cumulative Average Reward: 106.66037735849056\n",
            "Simulating episode 53\n",
            "Sum of rewards 199.0\n",
            "Cumulative Average Reward: 108.37037037037037\n",
            "Simulating episode 54\n",
            "Sum of rewards 199.0\n",
            "Cumulative Average Reward: 110.01818181818182\n",
            "Simulating episode 55\n",
            "Sum of rewards 190.0\n",
            "Cumulative Average Reward: 111.44642857142857\n",
            "Simulating episode 56\n",
            "Sum of rewards 123.0\n",
            "Cumulative Average Reward: 111.64912280701755\n",
            "Simulating episode 57\n",
            "Sum of rewards 142.0\n",
            "Cumulative Average Reward: 112.17241379310344\n",
            "Simulating episode 58\n",
            "Sum of rewards 125.0\n",
            "Cumulative Average Reward: 112.38983050847457\n",
            "Simulating episode 59\n",
            "Sum of rewards 199.0\n",
            "Cumulative Average Reward: 113.83333333333333\n",
            "Simulating episode 60\n",
            "Sum of rewards 137.0\n",
            "Cumulative Average Reward: 114.21311475409836\n",
            "Simulating episode 61\n",
            "Sum of rewards 133.0\n",
            "Cumulative Average Reward: 114.51612903225806\n",
            "Simulating episode 62\n",
            "Sum of rewards 152.0\n",
            "Cumulative Average Reward: 115.11111111111111\n",
            "Simulating episode 63\n",
            "Sum of rewards 199.0\n",
            "Cumulative Average Reward: 116.421875\n",
            "Simulating episode 64\n",
            "Sum of rewards 126.0\n",
            "Cumulative Average Reward: 116.56923076923077\n",
            "Simulating episode 65\n",
            "Sum of rewards 199.0\n",
            "Cumulative Average Reward: 117.81818181818181\n",
            "Simulating episode 66\n",
            "Sum of rewards 155.0\n",
            "Cumulative Average Reward: 118.3731343283582\n",
            "Simulating episode 67\n",
            "Sum of rewards 199.0\n",
            "Cumulative Average Reward: 119.55882352941177\n",
            "Simulating episode 68\n",
            "Sum of rewards 121.0\n",
            "Cumulative Average Reward: 119.57971014492753\n",
            "Simulating episode 69\n",
            "Sum of rewards 199.0\n",
            "Cumulative Average Reward: 120.71428571428571\n",
            "Simulating episode 70\n",
            "Sum of rewards 147.0\n",
            "Cumulative Average Reward: 121.08450704225352\n",
            "Simulating episode 71\n",
            "Sum of rewards 139.0\n",
            "Cumulative Average Reward: 121.33333333333333\n",
            "Simulating episode 72\n",
            "Sum of rewards 151.0\n",
            "Cumulative Average Reward: 121.73972602739725\n",
            "Simulating episode 73\n",
            "Sum of rewards 190.0\n",
            "Cumulative Average Reward: 122.66216216216216\n",
            "Simulating episode 74\n",
            "Sum of rewards 140.0\n",
            "Cumulative Average Reward: 122.89333333333333\n",
            "Simulating episode 75\n",
            "Sum of rewards 199.0\n",
            "Cumulative Average Reward: 123.89473684210526\n",
            "Simulating episode 76\n",
            "Sum of rewards 137.0\n",
            "Cumulative Average Reward: 124.06493506493507\n",
            "Simulating episode 77\n",
            "Sum of rewards 199.0\n",
            "Cumulative Average Reward: 125.02564102564102\n",
            "Simulating episode 78\n",
            "Sum of rewards 199.0\n",
            "Cumulative Average Reward: 125.9620253164557\n",
            "Simulating episode 79\n",
            "Sum of rewards 125.0\n",
            "Cumulative Average Reward: 125.95\n",
            "Simulating episode 80\n",
            "Sum of rewards 170.0\n",
            "Cumulative Average Reward: 126.49382716049382\n",
            "Simulating episode 81\n",
            "Sum of rewards 199.0\n",
            "Cumulative Average Reward: 127.3780487804878\n",
            "Simulating episode 82\n",
            "Sum of rewards 123.0\n",
            "Cumulative Average Reward: 127.32530120481928\n",
            "Simulating episode 83\n",
            "Sum of rewards 147.0\n",
            "Cumulative Average Reward: 127.55952380952381\n",
            "Simulating episode 84\n",
            "Sum of rewards 178.0\n",
            "Cumulative Average Reward: 128.1529411764706\n",
            "Simulating episode 85\n",
            "Sum of rewards 174.0\n",
            "Cumulative Average Reward: 128.6860465116279\n",
            "Simulating episode 86\n",
            "Sum of rewards 194.0\n",
            "Cumulative Average Reward: 129.43678160919538\n",
            "Simulating episode 87\n",
            "Sum of rewards 118.0\n",
            "Cumulative Average Reward: 129.30681818181816\n",
            "Simulating episode 88\n",
            "Sum of rewards 127.0\n",
            "Cumulative Average Reward: 129.28089887640448\n",
            "Simulating episode 89\n",
            "Sum of rewards 136.0\n",
            "Cumulative Average Reward: 129.35555555555553\n",
            "Simulating episode 90\n",
            "Sum of rewards 199.0\n",
            "Cumulative Average Reward: 130.1208791208791\n",
            "Simulating episode 91\n",
            "Sum of rewards 144.0\n",
            "Cumulative Average Reward: 130.27173913043475\n",
            "Simulating episode 92\n",
            "Sum of rewards 199.0\n",
            "Cumulative Average Reward: 131.010752688172\n",
            "Simulating episode 93\n",
            "Sum of rewards 199.0\n",
            "Cumulative Average Reward: 131.73404255319144\n",
            "Simulating episode 94\n",
            "Sum of rewards 171.0\n",
            "Cumulative Average Reward: 132.1473684210526\n",
            "Simulating episode 95\n",
            "Sum of rewards 199.0\n",
            "Cumulative Average Reward: 132.84374999999997\n",
            "Simulating episode 96\n",
            "Sum of rewards 141.0\n",
            "Cumulative Average Reward: 132.92783505154637\n",
            "Simulating episode 97\n",
            "Sum of rewards 117.0\n",
            "Cumulative Average Reward: 132.76530612244895\n",
            "Simulating episode 98\n",
            "Sum of rewards 195.0\n",
            "Cumulative Average Reward: 133.39393939393935\n",
            "Simulating episode 99\n",
            "Sum of rewards 178.0\n",
            "Cumulative Average Reward: 133.83999999999997\n"
          ]
        },
        {
          "output_type": "display_data",
          "data": {
            "text/plain": [
              "<Figure size 640x480 with 1 Axes>"
            ],
            "image/png": "[encoded data removed]"
          },
          "metadata": {}
        }
      ],
      "source": [
        "x.simulateEpisodes()"
      ]
    },
    {
      "cell_type": "code",
      "source": [
        "final_policy = x.policy"
      ],
      "metadata": {
        "id": "0rrPHOheuf98"
      },
      "execution_count": 30,
      "outputs": []
    },
    {
      "cell_type": "code",
      "source": [
        "def evaluate_policy(policy, num_iterations, x):\n",
        "  \n",
        "\n",
        "  total_reward = 0\n",
        "  for i in range(num_iterations):\n",
        "        terminalState=False\n",
        "\n",
        "        gammas = x.generate_step_sizes(x)\n",
        "        t = 0\n",
        "        rewardsEpisode = []\n",
        "\n",
        "        stateS = x.env.reset()\n",
        "        stateS = list(stateS)\n",
        "\n",
        "        while not terminalState:\n",
        "            # return a discretized index of the state                    \n",
        "            stateSIndex = x.returnIndexState(stateS)                    \n",
        "            # select an action on the basis of the current state, denoted by stateS\n",
        "            actionA = policy[stateSIndex]\n",
        "            if terminalState:\n",
        "                stateSprime, reward, terminalState,_ = stateS, 0, True, None\n",
        "            else:\n",
        "                (stateSprime, reward, terminalState,_) = x.env.step(actionA[0])     \n",
        "            rewardsEpisode.append(reward)                    \n",
        "            stateSprime=list(stateSprime)                    \n",
        "            stateSprimeIndex = x.returnIndexState(stateSprime)\n",
        "            \n",
        "            # print(\"Using Gamma: \", {gammas[t]}, \" t: \", t)                \n",
        "            # history, w_new = self.rlspe(self.phi_sa, history, self.policy, w, stateSIndex, stateSprimeIndex, actionA, reward, gamma = gammas[t])                                       \n",
        "            stateS = stateSprime\n",
        "\n",
        "            #diff = np.linalg.norm(w_new - w)\n",
        "\n",
        "            # if diff < self.epsilon:\n",
        "            #   break\n",
        "\n",
        "            # w = w_new\n",
        "\n",
        "            t+=1\n",
        "        total_reward += np.sum(rewardsEpisode)\n",
        "  \n",
        "  return total_reward / num_iterations"
      ],
      "metadata": {
        "id": "ux3CH6sYxUdo"
      },
      "execution_count": 35,
      "outputs": []
    },
    {
      "cell_type": "code",
      "source": [
        "evaluate_policy(final_policy, 50, x)"
      ],
      "metadata": {
        "colab": {
          "base_uri": "https://localhost:8080/"
        },
        "id": "K5CUqUr8x3Ws",
        "outputId": "e46efc6b-6b53-44c8-b38f-5bb8c425cb1d"
      },
      "execution_count": 36,
      "outputs": [
        {
          "output_type": "execute_result",
          "data": {
            "text/plain": [
              "176.6"
            ]
          },
          "metadata": {},
          "execution_count": 36
        }
      ]
    },
    {
      "cell_type": "code",
      "source": [
        "\n",
        "g = 9.8\n",
        "l=0.5\n",
        "fm=10\n",
        "change = np.linspace(-0.5, 0.8, 100)\n",
        "parameter = g\n",
        "arr = parameter + change * parameter\n",
        "steps = []\n",
        "for i in arr:\n",
        "  x = CartPole_RLSPI(config, gravity=i)\n",
        "  step = evaluate_policy(final_policy, 50, x)\n",
        "  steps.append(step)\n",
        "\n",
        "plt.plot(change, steps)"
      ],
      "metadata": {
        "colab": {
          "base_uri": "https://localhost:8080/"
        },
        "id": "mnGp2ijNtNQq",
        "outputId": "35c89d87-2361-44b7-f7df-612906105278"
      },
      "execution_count": null,
      "outputs": [
        {
          "output_type": "stream",
          "name": "stderr",
          "text": [
            "/usr/local/lib/python3.9/dist-packages/gym/core.py:317: DeprecationWarning: \u001b[33mWARN: Initializing wrapper in old step API which returns one bool instead of two. It is recommended to set `new_step_api=True` to use new step API. This will be the default behaviour in future.\u001b[0m\n",
            "  deprecation(\n",
            "/usr/local/lib/python3.9/dist-packages/gym/wrappers/step_api_compatibility.py:39: DeprecationWarning: \u001b[33mWARN: Initializing environment in old step API which returns one bool instead of two. It is recommended to set `new_step_api=True` to use new step API. This will be the default behaviour in future.\u001b[0m\n",
            "  deprecation(\n"
          ]
        }
      ]
    },
    {
      "cell_type": "code",
      "execution_count": null,
      "metadata": {
        "id": "mEMvjwfMJtjE"
      },
      "outputs": [],
      "source": [
        "def get_basis():\n",
        "    basis = []\n",
        "    s1 = np.array([-2, 2])\n",
        "    s2 = np.array([-1.5, 1.5])\n",
        "    s3 = np.array([-0.2, 0.2])\n",
        "    s4 = np.array([-5, 5])\n",
        "    s5 = np.array([0, 1])\n",
        "    for i in s1:\n",
        "        for j in s2:\n",
        "            for k in s3:\n",
        "                for l in s4:\n",
        "                    for m in s5:\n",
        "                        basis.append(GaussianRBF(np.array([i,j,k,l, m]), np.array([1])))\n",
        "    features = Features(basis_list=basis)\n",
        "\n",
        "    return features"
      ]
    },
    {
      "cell_type": "code",
      "execution_count": null,
      "metadata": {
        "colab": {
          "base_uri": "https://localhost:8080/"
        },
        "id": "PBm7t-KxEGqp",
        "outputId": "a90c6560-4d46-4d21-e5f4-3fd39588931c"
      },
      "outputs": [
        {
          "name": "stderr",
          "output_type": "stream",
          "text": [
            "/usr/local/lib/python3.9/dist-packages/ipykernel/ipkernel.py:283: DeprecationWarning: `should_run_async` will not call `transform_cell` automatically in the future. Please pass the result to `transformed_cell` argument and any exception that happen during thetransform in `preprocessing_exc_tuple` in IPython 7.17 and above.\n",
            "  and should_run_async(code)\n"
          ]
        }
      ],
      "source": [
        "def get_phi_sa():\n",
        "\n",
        "        n_actions = env.action_space.n \n",
        "        n_episodes = config[\"n_episodes\"]\n",
        "        n_bins = config[\"n_bins\"]\n",
        "        lowerBounds = config[\"lowerBounds\"]\n",
        "        upperBounds = config[\"upperBounds\"]\n",
        "        n_features = config[\"n_features\"]\n",
        "\n",
        "        n_states = n_bins[0]*n_bins[1]*n_bins[2]*n_bins[3]\n",
        "\n",
        "        features = get_basis()\n",
        "\n",
        "        actions = np.arange(n_actions)\n",
        "        \n",
        "        phi_sa = np.zeros((n_bins[0],n_bins[1],n_bins[2],n_bins[3],n_features, len(actions)))\n",
        "\n",
        "        for i in range(n_bins[0]):\n",
        "            a = np.linspace(lowerBounds[0],upperBounds[0],n_bins[0])[i]\n",
        "            for j in range(n_bins[1]):\n",
        "                b = np.linspace(lowerBounds[1],upperBounds[1],n_bins[1])[j]\n",
        "                for k in range(n_bins[2]):\n",
        "                    c = np.linspace(lowerBounds[2],upperBounds[2],n_bins[2])[k]\n",
        "                    for l in range(n_bins[3]):\n",
        "                        d = np.linspace(lowerBounds[3],upperBounds[3],n_bins[3])[l]\n",
        "                        for action in actions:\n",
        "                            phi_sa[i,j,k,l,:,action] = features(np.array([a,b,c,d,action]))\n",
        "                            phi_sa[i,j,k,l,:,action] = phi_sa[i,j,k,l,:,action]/np.linalg.norm(phi_sa[i,j,k,l,:,action])\n",
        "\n",
        "        print(phi_sa.shape)\n",
        "\n",
        "\n",
        "        return phi_sa"
      ]
    },
    {
      "cell_type": "code",
      "execution_count": null,
      "metadata": {
        "colab": {
          "base_uri": "https://localhost:8080/"
        },
        "id": "oe4EU4ghFx4l",
        "outputId": "bcfcb4c5-bdec-4188-84ef-81077f2fbc5d"
      },
      "outputs": [
        {
          "name": "stdout",
          "output_type": "stream",
          "text": [
            "(5, 5, 5, 5, 32, 2)\n"
          ]
        }
      ],
      "source": [
        "phi_sa = get_phi_sa()"
      ]
    },
    {
      "cell_type": "code",
      "execution_count": null,
      "metadata": {
        "colab": {
          "base_uri": "https://localhost:8080/"
        },
        "id": "jdQuG0_PF0ej",
        "outputId": "c10399ba-af55-4d28-bfcf-ac9e4cee7122"
      },
      "outputs": [
        {
          "name": "stderr",
          "output_type": "stream",
          "text": [
            "/usr/local/lib/python3.9/dist-packages/ipykernel/ipkernel.py:283: DeprecationWarning: `should_run_async` will not call `transform_cell` automatically in the future. Please pass the result to `transformed_cell` argument and any exception that happen during thetransform in `preprocessing_exc_tuple` in IPython 7.17 and above.\n",
            "  and should_run_async(code)\n"
          ]
        },
        {
          "data": {
            "text/plain": [
              "(32,)"
            ]
          },
          "execution_count": 40,
          "metadata": {},
          "output_type": "execute_result"
        }
      ],
      "source": [
        "phi_sa[0,0,0,0,:,0].shape"
      ]
    },
    {
      "cell_type": "code",
      "execution_count": null,
      "metadata": {
        "colab": {
          "base_uri": "https://localhost:8080/"
        },
        "id": "T_-w6y6dNwvh",
        "outputId": "608ae6f1-1f6a-49c5-b59a-60edd033e493"
      },
      "outputs": [
        {
          "data": {
            "text/plain": [
              "array([7.63341841e-001, 2.80817770e-001, 1.05638612e-087, 3.88622736e-088,\n",
              "       5.45991128e-001, 2.00858911e-001, 7.55595226e-088, 2.77967950e-088,\n",
              "       1.16256808e-008, 4.27684895e-009, 1.60887392e-095, 5.91871640e-096,\n",
              "       8.31543383e-009, 3.05907715e-009, 1.15077000e-095, 4.23344624e-096,\n",
              "       1.60623949e-017, 5.90902487e-018, 2.22286926e-104, 8.17747900e-105,\n",
              "       1.14888569e-017, 4.22651424e-018, 1.58993891e-104, 5.84905837e-105,\n",
              "       2.44629950e-025, 8.99943291e-026, 3.38542538e-112, 1.24542840e-112,\n",
              "       1.74975057e-025, 6.43697262e-026, 2.42147374e-112, 8.90810406e-113])"
            ]
          },
          "execution_count": 49,
          "metadata": {},
          "output_type": "execute_result"
        }
      ],
      "source": [
        "phi_sa[0,0,0,0,:,0]"
      ]
    },
    {
      "cell_type": "code",
      "execution_count": null,
      "metadata": {
        "colab": {
          "base_uri": "https://localhost:8080/"
        },
        "id": "UqWsmUy1NSJB",
        "outputId": "ba6d6318-df86-4900-fe9c-e6cd52fea13b"
      },
      "outputs": [
        {
          "data": {
            "text/plain": [
              "array([7.63341841e-001, 2.80817770e-001, 1.05638612e-087, 3.88622736e-088,\n",
              "       5.45991128e-001, 2.00858911e-001, 7.55595226e-088, 2.77967950e-088,\n",
              "       1.16256808e-008, 4.27684895e-009, 1.60887392e-095, 5.91871640e-096,\n",
              "       8.31543383e-009, 3.05907715e-009, 1.15077000e-095, 4.23344624e-096,\n",
              "       1.60623949e-017, 5.90902487e-018, 2.22286926e-104, 8.17747900e-105,\n",
              "       1.14888569e-017, 4.22651424e-018, 1.58993891e-104, 5.84905837e-105,\n",
              "       2.44629950e-025, 8.99943291e-026, 3.38542538e-112, 1.24542840e-112,\n",
              "       1.74975057e-025, 6.43697262e-026, 2.42147374e-112, 8.90810406e-113])"
            ]
          },
          "execution_count": 46,
          "metadata": {},
          "output_type": "execute_result"
        }
      ],
      "source": [
        "phi_sa[0,0,0,0,:,0]/np.linalg.norm(phi_sa[0,0,0,0,:,0])"
      ]
    },
    {
      "cell_type": "code",
      "execution_count": null,
      "metadata": {
        "id": "-JUGjTCuM3X8"
      },
      "outputs": [],
      "source": [
        "def generate_step_sizes(n):\n",
        "    \"\"\"\n",
        "    Generates a deterministic sequence of step sizes that satisfy the standard Robbins-Munro stochastic conditions \n",
        "    for stochastic approximation.\n",
        "    \n",
        "    Args:\n",
        "        n (int): The number of step sizes to generate.\n",
        "    \n",
        "    Returns:\n",
        "        A numpy array of shape (n,) containing the step sizes.\n",
        "    \"\"\"\n",
        "    import numpy as np\n",
        "    \n",
        "    # Generate the sequence of step sizes according to the Robbins-Munro stochastic conditions\n",
        "    step_sizes = np.zeros(n)\n",
        "    for i in range(n):\n",
        "        step_sizes[i] = 1 / ((i+1) * np.sqrt(i+1))\n",
        "    \n",
        "    return step_sizes"
      ]
    },
    {
      "cell_type": "code",
      "execution_count": null,
      "metadata": {
        "colab": {
          "base_uri": "https://localhost:8080/"
        },
        "id": "X1VcszE1RnPk",
        "outputId": "0676cc11-9558-4825-996a-0d06561f0c2f"
      },
      "outputs": [
        {
          "data": {
            "text/plain": [
              "2.611742893169012"
            ]
          },
          "execution_count": 61,
          "metadata": {},
          "output_type": "execute_result"
        }
      ],
      "source": [
        "sum(generate_step_sizes(10000000))"
      ]
    },
    {
      "cell_type": "code",
      "execution_count": null,
      "metadata": {
        "colab": {
          "base_uri": "https://localhost:8080/",
          "height": 449
        },
        "id": "ppUButRfRory",
        "outputId": "f230946a-8104-4cae-e406-0cfcbc8227e4"
      },
      "outputs": [
        {
          "data": {
            "image/png": "[encoded data removed]",
            "text/plain": [
              "<Figure size 640x480 with 1 Axes>"
            ]
          },
          "metadata": {},
          "output_type": "display_data"
        }
      ],
      "source": [
        "plt.plot([32,64,57,89,52,60])\n",
        "plt.xlabel(\"Episodes\")\n",
        "plt.ylabel(\"Reward\")\n",
        "plt.show()"
      ]
    },
    {
      "cell_type": "code",
      "execution_count": null,
      "metadata": {
        "id": "9E968d6l8GPO"
      },
      "outputs": [],
      "source": [
        "\n"
      ]
    }
  ],
  "metadata": {
    "colab": {
      "provenance": []
    },
    "kernelspec": {
      "display_name": "Python 3",
      "language": "python",
      "name": "python3"
    },
    "language_info": {
      "codemirror_mode": {
        "name": "ipython",
        "version": 3
      },
      "file_extension": ".py",
      "mimetype": "text/x-python",
      "name": "python",
      "nbconvert_exporter": "python",
      "pygments_lexer": "ipython3",
      "version": "3.11.0"
    },
    "orig_nbformat": 4
  },
  "nbformat": 4,
  "nbformat_minor": 0
}